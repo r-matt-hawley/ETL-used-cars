{
 "cells": [
  {
   "cell_type": "code",
   "execution_count": 1,
   "metadata": {},
   "outputs": [],
   "source": [
    "import requests\n",
    "from splinter import Browser\n",
    "from bs4 import BeautifulSoup as bs"
   ]
  },
  {
   "cell_type": "code",
   "execution_count": 2,
   "metadata": {},
   "outputs": [],
   "source": [
    "!which chromedriver\n",
    "scraped = {}"
   ]
  },
  {
   "cell_type": "code",
   "execution_count": 3,
   "metadata": {},
   "outputs": [],
   "source": [
    "executable_path = {'executable_path': '/usr/local/bin/chromedriver'}\n",
    "browser = Browser('chrome', **executable_path, headless=False)"
   ]
  },
  {
   "cell_type": "code",
   "execution_count": 4,
   "metadata": {},
   "outputs": [
    {
     "name": "stdout",
     "output_type": "stream",
     "text": [
      "https://www.truecar.com/used-cars-for-sale/listings/year-2017-max/location-houston-tx/?searchRadius=100&sort[]=price_desc\n"
     ]
    }
   ],
   "source": [
    "# https://www.cars.com/vehicledetail/detail/762102222/overview/\n",
    "    \n",
    "url = \"https://www.truecar.com/used-cars-for-sale/listings/year-2017-max/location-houston-tx/?searchRadius=100&sort[]=price_desc\"\n",
    "response = requests.get(url)\n",
    "soup = bs(response.text, 'html.parser')\n",
    "print(response.url)\n",
    "#print(soup.prettify())"
   ]
  },
  {
   "cell_type": "code",
   "execution_count": 5,
   "metadata": {},
   "outputs": [
    {
     "name": "stdout",
     "output_type": "stream",
     "text": [
      "[<div class=\"font-weight-bold\" data-qa=\"vehicle-listing-mileage\">3,942<!-- --> miles</div>, <div class=\"text-truncate\" data-qa=\"vehicle-listing-exterior-colors\">Exterior: <!-- -->Blue</div>, <div class=\"text-truncate\" data-qa=\"vehicle-listing-interior-colors\">Interior: <!-- -->Blue</div>]\n",
      "mileage: 3,942 miles\n",
      "exterior: Exterior: Blue\n",
      "interior: Interior: Blue\n"
     ]
    }
   ],
   "source": [
    "boxInfo = soup.find('div', attrs={\"data-qa\": \"VehicleDetailsSm\"}).find_all(\"div\",attrs={\"data-qa\":True})\n",
    "print(boxInfo)\n",
    "\n",
    "for rez in boxInfo: \n",
    "    scraped[rez[\"data-qa\"].split(\"-\")[2]]=rez.text\n",
    "    \n",
    "    \n",
    "for rez in boxInfo:\n",
    "    rez.text\n",
    "for row in scraped:\n",
    "    print(f\"{row}: {scraped[row]}\")\n",
    "    \n",
    "    \n",
    "    \n",
    "    \n",
    "    \n",
    "    \n",
    "    \n",
    "    "
   ]
  },
  {
   "cell_type": "code",
   "execution_count": 6,
   "metadata": {},
   "outputs": [
    {
     "name": "stdout",
     "output_type": "stream",
     "text": [
      "ZHWUR1ZF1JLA10082\n"
     ]
    }
   ],
   "source": [
    "vin = soup.find_all(\"a\", attrs={\"data-qa\": \"VehicleListing\"})[0][\"href\"].split(\"/\")[3]\n",
    "print(vin)\n",
    "scraped[\"VIN\"] = vin"
   ]
  },
  {
   "cell_type": "code",
   "execution_count": 106,
   "metadata": {},
   "outputs": [
    {
     "name": "stdout",
     "output_type": "stream",
     "text": [
      "[]\n"
     ]
    }
   ],
   "source": []
  },
  {
   "cell_type": "code",
   "execution_count": 7,
   "metadata": {},
   "outputs": [
    {
     "name": "stdout",
     "output_type": "stream",
     "text": [
      "2018 Lamborghini Huracan Spyder AWD $289,888\n"
     ]
    }
   ],
   "source": [
    "results = soup.find('a', attrs={\"data-qa\": \"VehicleListing\"})#[0]\n",
    "#print(results)\n",
    "AutoListing = results.find_all(\"h4\")#.div#.h4.text\n",
    "print(AutoListing[0].text,AutoListing[1].text)\n",
    "header = AutoListing[0].text.split(\" \")\n",
    "scraped[\"Year\"] = header[0]\n",
    "scraped[\"Make\"] = header[1]\n",
    "scraped[\"Model\"] = header[2]\n",
    "try:\n",
    "    scraped[\"Model\"] += f\" {header[3]}\"\n",
    "except IndexError:\n",
    "    pass\n",
    "scraped[\"Price\"] = AutoListing[1].text"
   ]
  },
  {
   "cell_type": "code",
   "execution_count": null,
   "metadata": {},
   "outputs": [],
   "source": []
  },
  {
   "cell_type": "code",
   "execution_count": null,
   "metadata": {},
   "outputs": [],
   "source": []
  },
  {
   "cell_type": "code",
   "execution_count": 16,
   "metadata": {},
   "outputs": [
    {
     "name": "stdout",
     "output_type": "stream",
     "text": [
      "[]\n"
     ]
    }
   ],
   "source": []
  },
  {
   "cell_type": "code",
   "execution_count": 8,
   "metadata": {},
   "outputs": [
    {
     "name": "stdout",
     "output_type": "stream",
     "text": [
      "mileage 3,942 miles\n",
      "exterior Exterior: Blue\n",
      "interior Interior: Blue\n",
      "VIN ZHWUR1ZF1JLA10082\n",
      "Year 2018\n",
      "Make Lamborghini\n",
      "Model Huracan Spyder\n",
      "Price $289,888\n"
     ]
    }
   ],
   "source": [
    "for entry in scraped:\n",
    "    print(entry, scraped[entry])"
   ]
  },
  {
   "cell_type": "code",
   "execution_count": null,
   "metadata": {},
   "outputs": [],
   "source": [
    "results = soup.find_all('div', attrs={\"data-qa\": \"VehicleListing\"})\n",
    "for rez in results:\n",
    "    try:\n",
    "#         print(res.strong.text)\n",
    "#         print(res)\n",
    "#         if res.strong.text == \"\"\n",
    "#         if res.strong.text == \"VIN:\":\n",
    "# #             print(\"---vin found---\")\n",
    "#             vin = res.span.text\n",
    "#         if res.strong.text == \"Mileage\":\n",
    "#             mileage = res.span.text\n",
    "        scraped[rez.h4.find_all(\"span\")[0].text] = (rez.h4.find_all(\"span\")[1].text)\n",
    "        \n",
    "    except AttributeError as e:\n",
    "        print(e)\n",
    "            \n",
    "results = soup.find_all('div', attrs={\"data-qa\": \"PricingBlock\"})[0]\n",
    "scraped[\"price\"]=(results.div.span.text)\n",
    "#year make model\n",
    "results = soup.find_all('h1', attrs={\"data-qa\": \"Heading\"})[0].div.text\n",
    "#print(results)\n",
    "\n",
    "#scraped[\"price\"]=(results.div.span.text)\n",
    "H1List = results.split(\" \")\n",
    "print(H1List)\n",
    "scraped[\"Year\"] = H1List[0]\n",
    "scraped[\"Make\"] = H1List[1]\n",
    "scraped[\"Model\"] = H1List[2]\n",
    "\n",
    "#print(results)\n",
    "#print(H1List[2])"
   ]
  },
  {
   "cell_type": "code",
   "execution_count": null,
   "metadata": {},
   "outputs": [],
   "source": [
    "### find next page\n",
    "browser.visit(url)\n",
    "html = browser.html\n",
    "soup = bs(html, 'html.parser')\n",
    "\n",
    "nextt = soup.find_all('svg', attrs={\"data-qa\": \"IconAngleRight\"}[2])\n",
    "print(nextt[2])"
   ]
  }
 ],
 "metadata": {
  "kernelspec": {
   "display_name": "Python 3",
   "language": "python",
   "name": "python3"
  },
  "language_info": {
   "codemirror_mode": {
    "name": "ipython",
    "version": 3
   },
   "file_extension": ".py",
   "mimetype": "text/x-python",
   "name": "python",
   "nbconvert_exporter": "python",
   "pygments_lexer": "ipython3",
   "version": "3.6.5"
  }
 },
 "nbformat": 4,
 "nbformat_minor": 2
}
